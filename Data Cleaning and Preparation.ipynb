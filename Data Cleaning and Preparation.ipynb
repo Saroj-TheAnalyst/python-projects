import pandas as pd

# Load the dataset to examine its structure
file_path = '/mnt/data/My_Excel_Project_Dataset.xlsx'
excel_data = pd.ExcelFile(file_path)

# Display sheet names and read in the first few rows of each sheet (if there are multiple sheets)
sheet_names = excel_data.sheet_names
sheet_summaries = {sheet: excel_data.parse(sheet).head() for sheet in sheet_names}

sheet_names, sheet_summaries
