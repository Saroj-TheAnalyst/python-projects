{
 "cells": [
  {
   "cell_type": "code",
   "execution_count": null,
   "id": "c53e224b",
   "metadata": {},
   "outputs": [],
   "source": [
    "\n",
    "# Import necessary libraries\n",
    "import pandas as pd\n",
    "import numpy as np\n",
    "import matplotlib.pyplot as plt\n",
    "import seaborn as sns\n",
    "from sklearn.model_selection import train_test_split\n",
    "from sklearn.linear_model import LogisticRegression\n",
    "from sklearn.metrics import classification_report, confusion_matrix, accuracy_score\n"
   ]
  },
  {
   "cell_type": "code",
   "execution_count": null,
   "id": "dcb37584",
   "metadata": {},
   "outputs": [],
   "source": [
    "\n",
    "# Load the Excel file and inspect sheet names\n",
    "file_path = '/mnt/data/My_Excel_Project_Dataset.xlsx'\n",
    "excel_data = pd.ExcelFile(file_path)\n",
    "\n",
    "# Check available sheets\n",
    "sheet_names = excel_data.sheet_names\n",
    "print(\"Available sheets:\", sheet_names)\n",
    "\n",
    "# Load relevant sheets into DataFrames\n",
    "bike_buyers_df = excel_data.parse('bike_buyers')\n",
    "working_sheet_df = excel_data.parse('Working Sheet')\n",
    "pivot_table_df = excel_data.parse('Pivot Table')\n",
    "\n",
    "# Display the first few rows of each loaded sheet\n",
    "bike_buyers_df.head(), working_sheet_df.head(), pivot_table_df.head()\n"
   ]
  },
  {
   "cell_type": "code",
   "execution_count": null,
   "id": "e373684d",
   "metadata": {},
   "outputs": [],
   "source": [
    "\n",
    "# Display basic info and summary statistics for each dataset\n",
    "print(\"Bike Buyers Data Info:\")\n",
    "bike_buyers_df.info()\n",
    "print(\"\\nWorking Sheet Data Info:\")\n",
    "working_sheet_df.info()\n",
    "print(\"\\nPivot Table Data Info:\")\n",
    "pivot_table_df.info()\n",
    "\n",
    "# Summary statistics\n",
    "print(\"Summary Statistics - Bike Buyers\")\n",
    "bike_buyers_df.describe(include='all')\n"
   ]
  },
  {
   "cell_type": "code",
   "execution_count": null,
   "id": "1c2e3f6f",
   "metadata": {},
   "outputs": [],
   "source": [
    "\n",
    "# Checking for missing values in the bike buyers sheet\n",
    "print(\"Missing values in bike buyers dataset:\")\n",
    "print(bike_buyers_df.isnull().sum())\n",
    "\n",
    "# Handling missing values (if any)\n",
    "# Example: Fill numerical columns with the median, categorical with the mode\n",
    "for column in bike_buyers_df.columns:\n",
    "    if bike_buyers_df[column].dtype == 'object':\n",
    "        bike_buyers_df[column].fillna(bike_buyers_df[column].mode()[0], inplace=True)\n",
    "    else:\n",
    "        bike_buyers_df[column].fillna(bike_buyers_df[column].median(), inplace=True)\n",
    "\n",
    "print(\"Missing values handled.\")\n"
   ]
  },
  {
   "cell_type": "code",
   "execution_count": null,
   "id": "69ea547c",
   "metadata": {},
   "outputs": [],
   "source": [
    "\n",
    "# Univariate analysis: Plotting distributions for numerical columns\n",
    "plt.figure(figsize=(14, 10))\n",
    "plt.subplot(2, 2, 1)\n",
    "sns.histplot(bike_buyers_df['Income'], kde=True)\n",
    "plt.title('Income Distribution')\n",
    "\n",
    "plt.subplot(2, 2, 2)\n",
    "sns.histplot(bike_buyers_df['Age'], kde=True)\n",
    "plt.title('Age Distribution')\n",
    "\n",
    "plt.subplot(2, 2, 3)\n",
    "sns.countplot(data=bike_buyers_df, x='Marital Status')\n",
    "plt.title('Marital Status Counts')\n",
    "\n",
    "plt.subplot(2, 2, 4)\n",
    "sns.countplot(data=bike_buyers_df, x='Purchased Bike')\n",
    "plt.title('Bike Purchase Counts')\n",
    "\n",
    "plt.tight_layout()\n",
    "plt.show()\n"
   ]
  },
  {
   "cell_type": "code",
   "execution_count": null,
   "id": "ac5ff61b",
   "metadata": {},
   "outputs": [],
   "source": [
    "\n",
    "# Bivariate analysis: Analyzing relationships between features and target variable (Purchased Bike)\n",
    "\n",
    "plt.figure(figsize=(14, 10))\n",
    "plt.subplot(2, 2, 1)\n",
    "sns.boxplot(data=bike_buyers_df, x='Purchased Bike', y='Income')\n",
    "plt.title('Income by Bike Purchase')\n",
    "\n",
    "plt.subplot(2, 2, 2)\n",
    "sns.boxplot(data=bike_buyers_df, x='Purchased Bike', y='Age')\n",
    "plt.title('Age by Bike Purchase')\n",
    "\n",
    "plt.subplot(2, 2, 3)\n",
    "sns.countplot(data=bike_buyers_df, x='Commute Distance', hue='Purchased Bike')\n",
    "plt.title('Commute Distance and Bike Purchase')\n",
    "\n",
    "plt.subplot(2, 2, 4)\n",
    "sns.countplot(data=bike_buyers_df, x='Marital Status', hue='Purchased Bike')\n",
    "plt.title('Marital Status and Bike Purchase')\n",
    "\n",
    "plt.tight_layout()\n",
    "plt.show()\n"
   ]
  },
  {
   "cell_type": "code",
   "execution_count": null,
   "id": "716aa63c",
   "metadata": {},
   "outputs": [],
   "source": [
    "\n",
    "# Correlation analysis to find relationships among numerical features\n",
    "plt.figure(figsize=(10, 6))\n",
    "sns.heatmap(bike_buyers_df.corr(), annot=True, cmap='coolwarm')\n",
    "plt.title('Correlation Matrix')\n",
    "plt.show()\n"
   ]
  },
  {
   "cell_type": "code",
   "execution_count": null,
   "id": "07a29a13",
   "metadata": {},
   "outputs": [],
   "source": [
    "\n",
    "# Prepare data for predictive modeling\n",
    "X = bike_buyers_df[['Income', 'Age', 'Cars']]  # Example feature selection\n",
    "y = bike_buyers_df['Purchased Bike'].apply(lambda x: 1 if x == 'Yes' else 0)\n",
    "\n",
    "# Split data into train and test sets\n",
    "X_train, X_test, y_train, y_test = train_test_split(X, y, test_size=0.3, random_state=42)\n",
    "\n",
    "# Train a Logistic Regression model\n",
    "model = LogisticRegression()\n",
    "model.fit(X_train, y_train)\n",
    "\n",
    "# Make predictions and evaluate the model\n",
    "y_pred = model.predict(X_test)\n",
    "print(\"Classification Report:\")\n",
    "print(classification_report(y_test, y_pred))\n",
    "print(\"Confusion Matrix:\")\n",
    "print(confusion_matrix(y_test, y_pred))\n",
    "print(\"Accuracy Score:\", accuracy_score(y_test, y_pred))\n"
   ]
  },
  {
   "cell_type": "markdown",
   "id": "7c01453c",
   "metadata": {},
   "source": [
    "\n",
    "# Conclusion and Summary\n",
    "# Summarize key insights from the analysis and model performance.\n",
    "# Mention potential recommendations based on the findings.\n"
   ]
  }
 ],
 "metadata": {},
 "nbformat": 4,
 "nbformat_minor": 5
}
